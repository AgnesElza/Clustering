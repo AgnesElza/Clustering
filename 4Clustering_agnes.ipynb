{
 "cells": [
  {
   "cell_type": "markdown",
   "metadata": {},
   "source": [
    "#Question 4\n",
    "CLUSTERING"
   ]
  },
  {
   "cell_type": "code",
   "execution_count": 14,
   "metadata": {},
   "outputs": [
    {
     "name": "stdout",
     "output_type": "stream",
     "text": [
      "     Channel  Region  Fresh   Milk  Grocery  Frozen  Detergents_Paper  \\\n",
      "0          2       3  12669   9656     7561     214              2674   \n",
      "1          2       3   7057   9810     9568    1762              3293   \n",
      "2          2       3   6353   8808     7684    2405              3516   \n",
      "3          1       3  13265   1196     4221    6404               507   \n",
      "4          2       3  22615   5410     7198    3915              1777   \n",
      "5          2       3   9413   8259     5126     666              1795   \n",
      "6          2       3  12126   3199     6975     480              3140   \n",
      "7          2       3   7579   4956     9426    1669              3321   \n",
      "8          1       3   5963   3648     6192     425              1716   \n",
      "9          2       3   6006  11093    18881    1159              7425   \n",
      "10         2       3   3366   5403    12974    4400              5977   \n",
      "11         2       3  13146   1124     4523    1420               549   \n",
      "12         2       3  31714  12319    11757     287              3881   \n",
      "13         2       3  21217   6208    14982    3095              6707   \n",
      "14         2       3  24653   9465    12091     294              5058   \n",
      "15         1       3  10253   1114     3821     397               964   \n",
      "16         2       3   1020   8816    12121     134              4508   \n",
      "17         1       3   5876   6157     2933     839               370   \n",
      "18         2       3  18601   6327    10099    2205              2767   \n",
      "19         1       3   7780   2495     9464     669              2518   \n",
      "20         2       3  17546   4519     4602    1066              2259   \n",
      "21         1       3   5567    871     2010    3383               375   \n",
      "22         1       3  31276   1917     4469    9408              2381   \n",
      "23         2       3  26373  36423    22019    5154              4337   \n",
      "24         2       3  22647   9776    13792    2915              4482   \n",
      "25         2       3  16165   4230     7595     201              4003   \n",
      "26         1       3   9898    961     2861    3151               242   \n",
      "27         1       3  14276    803     3045     485               100   \n",
      "28         2       3   4113  20484    25957    1158              8604   \n",
      "29         1       3  43088   2100     2609    1200              1107   \n",
      "..       ...     ...    ...    ...      ...     ...               ...   \n",
      "410        1       3   6633   2096     4563    1389              1860   \n",
      "411        1       3   2126   3289     3281    1535               235   \n",
      "412        1       3     97   3605    12400      98              2970   \n",
      "413        1       3   4983   4859     6633   17866               912   \n",
      "414        1       3   5969   1990     3417    5679              1135   \n",
      "415        2       3   7842   6046     8552    1691              3540   \n",
      "416        2       3   4389  10940    10908     848              6728   \n",
      "417        1       3   5065   5499    11055     364              3485   \n",
      "418        2       3    660   8494    18622     133              6740   \n",
      "419        1       3   8861   3783     2223     633              1580   \n",
      "420        1       3   4456   5266    13227      25              6818   \n",
      "421        2       3  17063   4847     9053    1031              3415   \n",
      "422        1       3  26400   1377     4172     830               948   \n",
      "423        2       3  17565   3686     4657    1059              1803   \n",
      "424        2       3  16980   2884    12232     874              3213   \n",
      "425        1       3  11243   2408     2593   15348               108   \n",
      "426        1       3  13134   9347    14316    3141              5079   \n",
      "427        1       3  31012  16687     5429   15082               439   \n",
      "428        1       3   3047   5970     4910    2198               850   \n",
      "429        1       3   8607   1750     3580      47                84   \n",
      "430        1       3   3097   4230    16483     575               241   \n",
      "431        1       3   8533   5506     5160   13486              1377   \n",
      "432        1       3  21117   1162     4754     269              1328   \n",
      "433        1       3   1982   3218     1493    1541               356   \n",
      "434        1       3  16731   3922     7994     688              2371   \n",
      "435        1       3  29703  12051    16027   13135               182   \n",
      "436        1       3  39228   1431      764    4510                93   \n",
      "437        2       3  14531  15488    30243     437             14841   \n",
      "438        1       3  10290   1981     2232    1038               168   \n",
      "439        1       3   2787   1698     2510      65               477   \n",
      "\n",
      "     Delicassen  \n",
      "0          1338  \n",
      "1          1776  \n",
      "2          7844  \n",
      "3          1788  \n",
      "4          5185  \n",
      "5          1451  \n",
      "6           545  \n",
      "7          2566  \n",
      "8           750  \n",
      "9          2098  \n",
      "10         1744  \n",
      "11          497  \n",
      "12         2931  \n",
      "13          602  \n",
      "14         2168  \n",
      "15          412  \n",
      "16         1080  \n",
      "17         4478  \n",
      "18         3181  \n",
      "19          501  \n",
      "20         2124  \n",
      "21          569  \n",
      "22         4334  \n",
      "23        16523  \n",
      "24         5778  \n",
      "25           57  \n",
      "26          833  \n",
      "27          518  \n",
      "28         5206  \n",
      "29          823  \n",
      "..          ...  \n",
      "410        1892  \n",
      "411        4365  \n",
      "412          62  \n",
      "413        2435  \n",
      "414         290  \n",
      "415        1874  \n",
      "416         993  \n",
      "417        1063  \n",
      "418         776  \n",
      "419        1521  \n",
      "420        1393  \n",
      "421        1784  \n",
      "422        1218  \n",
      "423         668  \n",
      "424         249  \n",
      "425        1886  \n",
      "426        1894  \n",
      "427        1163  \n",
      "428         317  \n",
      "429        2501  \n",
      "430        2080  \n",
      "431        1498  \n",
      "432         395  \n",
      "433        1449  \n",
      "434         838  \n",
      "435        2204  \n",
      "436        2346  \n",
      "437        1867  \n",
      "438        2125  \n",
      "439          52  \n",
      "\n",
      "[440 rows x 8 columns]\n"
     ]
    }
   ],
   "source": [
    "import numpy as np\n",
    "import pandas as pd\n",
    "from sklearn.cluster import KMeans\n",
    "data_set=pd.read_csv(\"Wholesale customers data.csv\")\n",
    "df=pd.DataFrame(data_set)\n",
    "import matplotlib.pyplot as plt\n",
    "print(df)"
   ]
  },
  {
   "cell_type": "code",
   "execution_count": 9,
   "metadata": {},
   "outputs": [
    {
     "name": "stdout",
     "output_type": "stream",
     "text": [
      "A look at the data\n",
      "   Channel  Region  Fresh  Milk  Grocery  Frozen  Detergents_Paper  Delicassen\n",
      "0        2       3  12669  9656     7561     214              2674        1338\n",
      "1        2       3   7057  9810     9568    1762              3293        1776\n",
      "2        2       3   6353  8808     7684    2405              3516        7844\n",
      "3        1       3  13265  1196     4221    6404               507        1788\n",
      "4        2       3  22615  5410     7198    3915              1777        5185 \n",
      "\n",
      "Number of columns and rows of the data \n",
      "(440, 8) \n",
      "\n",
      "Description of the data\n",
      "          Channel      Region          Fresh          Milk       Grocery  \\\n",
      "count  440.000000  440.000000     440.000000    440.000000    440.000000   \n",
      "mean     1.322727    2.543182   12000.297727   5796.265909   7951.277273   \n",
      "std      0.468052    0.774272   12647.328865   7380.377175   9503.162829   \n",
      "min      1.000000    1.000000       3.000000     55.000000      3.000000   \n",
      "25%      1.000000    2.000000    3127.750000   1533.000000   2153.000000   \n",
      "50%      1.000000    3.000000    8504.000000   3627.000000   4755.500000   \n",
      "75%      2.000000    3.000000   16933.750000   7190.250000  10655.750000   \n",
      "max      2.000000    3.000000  112151.000000  73498.000000  92780.000000   \n",
      "\n",
      "             Frozen  Detergents_Paper    Delicassen  \n",
      "count    440.000000        440.000000    440.000000  \n",
      "mean    3071.931818       2881.493182   1524.870455  \n",
      "std     4854.673333       4767.854448   2820.105937  \n",
      "min       25.000000          3.000000      3.000000  \n",
      "25%      742.250000        256.750000    408.250000  \n",
      "50%     1526.000000        816.500000    965.500000  \n",
      "75%     3554.250000       3922.000000   1820.250000  \n",
      "max    60869.000000      40827.000000  47943.000000   \n",
      "\n",
      "Types of data values\n",
      "Channel             int64\n",
      "Region              int64\n",
      "Fresh               int64\n",
      "Milk                int64\n",
      "Grocery             int64\n",
      "Frozen              int64\n",
      "Detergents_Paper    int64\n",
      "Delicassen          int64\n",
      "dtype: object \n",
      "\n",
      "Missing values per column:\n",
      "Channel             0\n",
      "Region              0\n",
      "Fresh               0\n",
      "Milk                0\n",
      "Grocery             0\n",
      "Frozen              0\n",
      "Detergents_Paper    0\n",
      "Delicassen          0\n",
      "dtype: int64 \n",
      "\n"
     ]
    }
   ],
   "source": [
    "print('A look at the data')\n",
    "print(df.head(),'\\n')\n",
    "\n",
    "print ('Number of columns and rows of the data ')\n",
    "print(df.shape,'\\n')\n",
    "\n",
    "print ('Description of the data')\n",
    "print(df.describe(),'\\n')\n",
    "\n",
    "print ('Types of data values')\n",
    "print(df.dtypes, '\\n')\n",
    "\n",
    "#identify nans\n",
    "def num_missing(x):\n",
    "    return sum(x.isnull())\n",
    "#Applying per column:\n",
    "print (\"Missing values per column:\")\n",
    "print (df.apply(num_missing, axis=0),'\\n') "
   ]
  },
  {
   "cell_type": "markdown",
   "metadata": {},
   "source": [
    "#Elbow method\n",
    "1.Compute clustering algorithm (e.g., k-means clustering) for different values of k. For instance, by varying k from 1 to 10 \n",
    "clusters.\n",
    "2.For each k, calculate the total within-cluster sum of square (wss).\n",
    "3.Plot the curve of wss according to the number of clusters k.\n",
    "4.The location of a bend (knee) in the plot is generally considered as an indicator of the appropriate number of clusters."
   ]
  },
  {
   "cell_type": "code",
   "execution_count": 17,
   "metadata": {},
   "outputs": [
    {
     "data": {
      "image/png": "[encoded data removed]",
      "text/plain": [
       "<Figure size 432x288 with 1 Axes>"
      ]
     },
     "metadata": {},
     "output_type": "display_data"
    }
   ],
   "source": [
    "wss = {}\n",
    "for k in range(1, 10):\n",
    "    kmeans = KMeans(n_clusters=k, max_iter=1000).fit(df)\n",
    "    df[\"clusters\"] = kmeans.labels_\n",
    "    #print(data[\"clusters\"])\n",
    "    wss[k] = kmeans.inertia_ # Inertia: Sum of distances of samples to their closest cluster center\n",
    "plt.figure()\n",
    "plt.plot(list(wss.keys()), list(wss.values()))\n",
    "plt.xlabel(\"Number of cluster\")\n",
    "plt.ylabel(\"WSS\")\n",
    "plt.show()\n",
    "    \n",
    "#kmeans.labels_\n",
    "#kmeans.predict()\n",
    "#kmeans.cluster_centers_"
   ]
  },
  {
   "cell_type": "markdown",
   "metadata": {},
   "source": [
    "Here the bend knee corresponds to k=5 0r 6(approximately)"
   ]
  },
  {
   "cell_type": "code",
   "execution_count": 23,
   "metadata": {},
   "outputs": [
    {
     "name": "stdout",
     "output_type": "stream",
     "text": [
      "(440,)\n"
     ]
    },
    {
     "data": {
      "text/plain": [
       "array([0, 3, 3, 0, 0, 3, 0, 3, 3, 4, 4, 0, 5, 0, 5, 3, 4, 3, 0, 3, 0, 3,\n",
       "       5, 4, 0, 0, 3, 0, 4, 5, 0, 3, 0, 5, 3, 3, 5, 4, 4, 1, 0, 0, 4, 4,\n",
       "       3, 4, 4, 2, 0, 4, 3, 3, 5, 4, 5, 3, 4, 4, 0, 3, 3, 2, 3, 4, 3, 2,\n",
       "       3, 0, 3, 3, 0, 0, 3, 0, 3, 0, 3, 4, 0, 3, 3, 4, 4, 0, 0, 2, 2, 5,\n",
       "       3, 5, 0, 0, 4, 0, 4, 3, 3, 3, 3, 3, 4, 4, 3, 1, 0, 0, 3, 4, 3, 4,\n",
       "       0, 4, 0, 0, 0, 0, 0, 3, 0, 3, 0, 3, 0, 0, 5, 1, 0, 0, 3, 5, 3, 3,\n",
       "       0, 3, 3, 3, 3, 3, 0, 3, 0, 5, 5, 0, 0, 4, 3, 3, 3, 5, 0, 3, 0, 3,\n",
       "       3, 4, 4, 0, 3, 4, 3, 0, 0, 4, 3, 4, 3, 3, 3, 3, 4, 4, 3, 4, 3, 4,\n",
       "       5, 0, 0, 3, 0, 1, 4, 1, 3, 3, 3, 3, 4, 4, 0, 0, 3, 4, 3, 0, 5, 3,\n",
       "       0, 3, 4, 4, 5, 3, 3, 4, 3, 3, 3, 4, 0, 2, 3, 3, 3, 4, 4, 0, 4, 3,\n",
       "       0, 3, 3, 3, 3, 0, 0, 3, 3, 3, 0, 3, 5, 3, 0, 3, 3, 0, 3, 5, 0, 0,\n",
       "       0, 0, 3, 4, 3, 0, 0, 3, 3, 4, 3, 5, 0, 5, 0, 3, 1, 5, 3, 3, 0, 3,\n",
       "       4, 4, 4, 0, 4, 0, 3, 3, 3, 5, 3, 3, 5, 0, 0, 0, 3, 0, 5, 5, 1, 5,\n",
       "       3, 0, 0, 5, 3, 3, 3, 4, 0, 3, 0, 3, 3, 3, 0, 4, 3, 4, 4, 3, 4, 0,\n",
       "       3, 4, 3, 5, 4, 3, 0, 4, 3, 3, 0, 4, 3, 3, 0, 0, 5, 1, 3, 3, 0, 3,\n",
       "       3, 4, 0, 2, 0, 5, 0, 3, 3, 3, 3, 3, 3, 4, 3, 3, 4, 5, 3, 4, 3, 4,\n",
       "       3, 4, 0, 3, 0, 4, 3, 3, 0, 3, 3, 3, 3, 3, 3, 3, 0, 3, 5, 0, 3, 0,\n",
       "       3, 3, 4, 5, 3, 3, 5, 0, 5, 3, 4, 0, 3, 0, 3, 3, 3, 3, 3, 0, 0, 3,\n",
       "       3, 0, 0, 3, 3, 5, 5, 5, 0, 3, 5, 4, 3, 3, 3, 3, 3, 3, 3, 3, 4, 3,\n",
       "       4, 3, 4, 0, 5, 0, 0, 0, 4, 5, 3, 3, 4, 3, 0, 3, 0, 5, 5, 4, 3, 3])"
      ]
     },
     "execution_count": 23,
     "metadata": {},
     "output_type": "execute_result"
    }
   ],
   "source": [
    "km6=KMeans(n_clusters=6,init='k-means++', max_iter=1000, n_init=10, random_state=0)\n",
    "y_means = km6.fit_predict(df)\n",
    "print(y_means)    \n",
    "km6.labels_"
   ]
  },
  {
   "cell_type": "code",
   "execution_count": 20,
   "metadata": {},
   "outputs": [
    {
     "data": {
      "text/plain": [
       "array([[1.13793103e+00, 2.58620690e+00, 3.61444828e+04, 5.47146552e+03,\n",
       "        6.12879310e+03, 6.29865517e+03, 1.06400000e+03, 2.31672414e+03,\n",
       "        2.81034483e+00],\n",
       "       [1.86315789e+00, 2.53684211e+00, 4.80884211e+03, 1.05250105e+04,\n",
       "        1.69097895e+04, 1.46258947e+03, 7.30240000e+03, 1.65088421e+03,\n",
       "        2.41052632e+00],\n",
       "       [1.90909091e+00, 2.54545455e+00, 1.98882727e+04, 3.61423636e+04,\n",
       "        4.55174545e+04, 6.32890909e+03, 2.14170909e+04, 8.41400000e+03,\n",
       "        2.81818182e+00],\n",
       "       [1.15217391e+00, 2.53623188e+00, 9.08746377e+03, 3.02742754e+03,\n",
       "        3.75351449e+03, 2.81798551e+03, 1.00300362e+03, 1.04052536e+03,\n",
       "        5.82971014e+00]])"
      ]
     },
     "execution_count": 20,
     "metadata": {},
     "output_type": "execute_result"
    }
   ],
   "source": [
    "km6.cluster_centers_"
   ]
  }
 ],
 "metadata": {
  "kernelspec": {
   "display_name": "Python 3",
   "language": "python",
   "name": "python3"
  },
  "language_info": {
   "codemirror_mode": {
    "name": "ipython",
    "version": 3
   },
   "file_extension": ".py",
   "mimetype": "text/x-python",
   "name": "python",
   "nbconvert_exporter": "python",
   "pygments_lexer": "ipython3",
   "version": "3.6.5"
  }
 },
 "nbformat": 4,
 "nbformat_minor": 2
}
